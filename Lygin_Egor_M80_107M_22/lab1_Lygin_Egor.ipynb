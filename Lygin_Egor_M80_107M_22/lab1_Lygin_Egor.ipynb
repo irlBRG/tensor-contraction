{
 "cells": [
  {
   "cell_type": "code",
   "execution_count": 10,
   "metadata": {},
   "outputs": [],
   "source": [
    "import numpy as np\n",
    "from ncon import ncon as nc\n"
   ]
  },
  {
   "attachments": {},
   "cell_type": "raw",
   "metadata": {},
   "source": [
    "  i      b        k\n",
    "----(A)-----(B)----\n",
    "    a \\   c / |\n",
    "       \\   /  |\n",
    "        (C)   | e\n",
    "       /   \\  |\n",
    "j   d /   h \\ |\n",
    "----(D)-----(E)\n",
    "         f"
   ]
  },
  {
   "attachments": {},
   "cell_type": "markdown",
   "metadata": {},
   "source": [
    "# Tensors initialization"
   ]
  },
  {
   "cell_type": "code",
   "execution_count": 6,
   "metadata": {},
   "outputs": [],
   "source": [
    "i= 1\n",
    "j= 2\n",
    "k= 3\n",
    "\n",
    "a= 4\n",
    "b= 5\n",
    "c= 6\n",
    "d= 7 \n",
    "e= 8\n",
    "f= 9\n",
    "h= 10\n",
    "\n",
    "A = np.random.uniform(-1, 1, (i, b, a))\n",
    "B = np.random.uniform(-1, 1, (b, k, c, e))\n",
    "C = np.random.uniform(-1, 1, (a, c, d, h))\n",
    "D = np.random.uniform(-1, 1, (j, d, f))\n",
    "E = np.random.uniform(-1, 1, (f, h, e))"
   ]
  },
  {
   "attachments": {},
   "cell_type": "markdown",
   "metadata": {},
   "source": [
    "# Manual contraction"
   ]
  },
  {
   "cell_type": "code",
   "execution_count": 8,
   "metadata": {},
   "outputs": [
    {
     "data": {
      "text/plain": [
       "array([[[  2.57975995, -17.22821835],\n",
       "        [ 59.11512873, -30.00855828],\n",
       "        [ 22.49169203, -15.04234221]]])"
      ]
     },
     "execution_count": 8,
     "metadata": {},
     "output_type": "execute_result"
    }
   ],
   "source": [
    "def Manual_contraction(A, B, C, D, E):\n",
    "\n",
    "    AB = np.zeros((i, k, a, c, e))\n",
    "    ABC = np.zeros((i, k, d, h, e))\n",
    "    ABCE = np.zeros((i, k, j, d, f))\n",
    "    ABCED = np.zeros((i, k, j))\n",
    "\n",
    "    for i_ in range(i):\n",
    "        for k_ in range(k):\n",
    "            for a_ in range(a):\n",
    "                for c_ in range(c):\n",
    "                    for e_ in range(e):\n",
    "                        for b_ in range(b):\n",
    "                            AB[i_, k_, a_, c_, e_] += A[i_, b_, a_]*B[b_, k_, c_, e_]\n",
    "\n",
    "    for i_ in range(i):\n",
    "        for k_ in range(k):\n",
    "            for d_ in range(d):\n",
    "                for h_ in range(h):\n",
    "                    for e_ in range(e):\n",
    "                        for a_ in range(a):\n",
    "                            for c_ in range(c):\n",
    "                                ABC[i_, k_, d_, h_, e_] += AB[i_, k_, a_, c_, e_]*C[a_, c_, d_, h_]\n",
    "\n",
    "\n",
    "    for i_ in range(i):\n",
    "        for k_ in range(k):\n",
    "            for j_ in range(j):\n",
    "                for d_ in range(d):\n",
    "                    for f_ in range(f):\n",
    "                        for h_ in range(h):\n",
    "                            for e_ in range(e):\n",
    "                                ABCE[i_, k_, j_, d_, f_] += ABC[i_, k_, d_, h_, e_]*E[f_, h_, e_]\n",
    "\n",
    "    for i_ in range(i):\n",
    "        for k_ in range(k):\n",
    "            for j_ in range(j):\n",
    "                for d_ in range(d):\n",
    "                    for f_ in range(f):\n",
    "                        ABCED[i_, k_, j_] += ABCE[i_, k_, j_, d_, f_]*D[j_, d_, f_]\n",
    "\n",
    "    return ABCED\n",
    "\n",
    "    \n",
    "Manual_contraction(A, B, C, D, E)"
   ]
  },
  {
   "attachments": {},
   "cell_type": "markdown",
   "metadata": {},
   "source": [
    "# Numpy contraction"
   ]
  },
  {
   "cell_type": "code",
   "execution_count": 19,
   "metadata": {},
   "outputs": [
    {
     "name": "stdout",
     "output_type": "stream",
     "text": [
      "(1, 4, 3, 6, 8) (4, 6, 7, 10)\n",
      "(1, 3, 8, 7, 10) (9, 10, 8)\n",
      "(1, 3, 7, 9) (2, 7, 9)\n"
     ]
    },
    {
     "data": {
      "text/plain": [
       "array([[[-32.56521986,  26.55490016],\n",
       "        [ 81.55107259,  34.28103959],\n",
       "        [-44.95151289,   4.9604763 ]]])"
      ]
     },
     "execution_count": 19,
     "metadata": {},
     "output_type": "execute_result"
    }
   ],
   "source": [
    "# A = np.random.uniform(-1, 1, (i, b, a))\n",
    "# B = np.random.uniform(-1, 1, (b, k, c, e))\n",
    "# C = np.random.uniform(-1, 1, (a, c, d, h))\n",
    "# D = np.random.uniform(-1, 1, (j, d, f))\n",
    "# E = np.random.uniform(-1, 1, (f, h, e))\n",
    "\n",
    "# AB = np.zeros((i, k, a, c, e))\n",
    "# ABC = np.zeros((i, k, d, h, e))\n",
    "# ABCE = np.zeros((i, k, j, d, f))\n",
    "# ABCED = np.zeros((i, k, j))\n",
    "\n",
    "def np_contraction(A, B, C, D, E):\n",
    "\n",
    "    AB = np.tensordot(A, B, axes=[[1],[0]])\n",
    "    print(AB.shape, C.shape)\n",
    "    ABC = np.tensordot(AB, C, axes=[[1, 3], [0, 1]])\n",
    "    print(ABC.shape, E.shape)\n",
    "    ABCE = np.tensordot(ABC, E, axes=[[2, -1], [-1, -2]])\n",
    "    print(ABCE.shape, D.shape)\n",
    "    ABCED = np.tensordot(ABCE, D, axes=[[-2, -1], [-2, -1]])\n",
    "\n",
    "    return ABCED\n",
    "\n",
    "np_contraction(A, B, C, D, E)"
   ]
  },
  {
   "attachments": {},
   "cell_type": "markdown",
   "metadata": {},
   "source": [
    "# Ncon contraction"
   ]
  },
  {
   "cell_type": "code",
   "execution_count": 11,
   "metadata": {},
   "outputs": [
    {
     "data": {
      "text/plain": [
       "array([[[-32.56521986,  81.55107259, -44.95151289],\n",
       "        [ 26.55490016,  34.28103959,   4.9604763 ]]])"
      ]
     },
     "execution_count": 11,
     "metadata": {},
     "output_type": "execute_result"
    }
   ],
   "source": [
    "# A = np.random.uniform(-1, 1, (i, b, a))\n",
    "# B = np.random.uniform(-1, 1, (b, k, c, e))\n",
    "# C = np.random.uniform(-1, 1, (a, c, d, h))\n",
    "# D = np.random.uniform(-1, 1, (j, d, f))\n",
    "# E = np.random.uniform(-1, 1, (f, h, e))\n",
    "\n",
    "\n",
    "nc(\n",
    "    [A, B, C, D, E],\n",
    "    [\n",
    "        # i, b, a\n",
    "        [-1, 1, 2],\n",
    "        # b, k, c, e\n",
    "        [1, -3, 3, 4],\n",
    "        # a, c, d, h\n",
    "        [2, 3, 5, 6],\n",
    "        # j, d, f\n",
    "        [-2, 5, 7],\n",
    "        # f, h, e\n",
    "        [7, 6, 4]\n",
    "    ]\n",
    ")"
   ]
  }
 ],
 "metadata": {
  "kernelspec": {
   "display_name": "Python 3",
   "language": "python",
   "name": "python3"
  },
  "language_info": {
   "codemirror_mode": {
    "name": "ipython",
    "version": 3
   },
   "file_extension": ".py",
   "mimetype": "text/x-python",
   "name": "python",
   "nbconvert_exporter": "python",
   "pygments_lexer": "ipython3",
   "version": "3.8.10"
  },
  "orig_nbformat": 4,
  "vscode": {
   "interpreter": {
    "hash": "31f2aee4e71d21fbe5cf8b01ff0e069b9275f58929596ceb00d14d90e3e16cd6"
   }
  }
 },
 "nbformat": 4,
 "nbformat_minor": 2
}
